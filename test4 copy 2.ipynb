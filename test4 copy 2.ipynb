{
 "cells": [
  {
   "cell_type": "code",
   "execution_count": 26,
   "metadata": {},
   "outputs": [
    {
     "ename": "ModuleNotFoundError",
     "evalue": "No module named 'matplotlib'",
     "output_type": "error",
     "traceback": [
      "\u001b[1;31m---------------------------------------------------------------------------\u001b[0m",
      "\u001b[1;31mModuleNotFoundError\u001b[0m                       Traceback (most recent call last)",
      "Cell \u001b[1;32mIn[26], line 3\u001b[0m\n\u001b[0;32m      1\u001b[0m \u001b[38;5;28;01mimport\u001b[39;00m\u001b[38;5;250m \u001b[39m\u001b[38;5;21;01mpandas\u001b[39;00m\u001b[38;5;250m \u001b[39m\u001b[38;5;28;01mas\u001b[39;00m\u001b[38;5;250m \u001b[39m\u001b[38;5;21;01mpd\u001b[39;00m\n\u001b[0;32m      2\u001b[0m \u001b[38;5;28;01mimport\u001b[39;00m\u001b[38;5;250m \u001b[39m\u001b[38;5;21;01mnumpy\u001b[39;00m\u001b[38;5;250m \u001b[39m\u001b[38;5;28;01mas\u001b[39;00m\u001b[38;5;250m \u001b[39m\u001b[38;5;21;01mnp\u001b[39;00m\n\u001b[1;32m----> 3\u001b[0m \u001b[38;5;28;01mimport\u001b[39;00m\u001b[38;5;250m \u001b[39m\u001b[38;5;21;01mmatplotlib\u001b[39;00m\u001b[38;5;21;01m.\u001b[39;00m\u001b[38;5;21;01mpyplot\u001b[39;00m\u001b[38;5;250m \u001b[39m\u001b[38;5;28;01mas\u001b[39;00m\u001b[38;5;250m \u001b[39m\u001b[38;5;21;01mplt\u001b[39;00m\n\u001b[0;32m      4\u001b[0m \u001b[38;5;28;01mimport\u001b[39;00m\u001b[38;5;250m \u001b[39m\u001b[38;5;21;01mwarnings\u001b[39;00m\n\u001b[0;32m      5\u001b[0m \u001b[38;5;28;01mfrom\u001b[39;00m\u001b[38;5;250m \u001b[39m\u001b[38;5;21;01mpycaret\u001b[39;00m\u001b[38;5;21;01m.\u001b[39;00m\u001b[38;5;21;01mtime_series\u001b[39;00m\u001b[38;5;250m \u001b[39m\u001b[38;5;28;01mimport\u001b[39;00m \u001b[38;5;241m*\u001b[39m\n",
      "\u001b[1;31mModuleNotFoundError\u001b[0m: No module named 'matplotlib'"
     ]
    }
   ],
   "source": [
    "import pandas as pd\n",
    "import numpy as np\n",
    "import matplotlib.pyplot as plt\n",
    "import warnings\n",
    "from pycaret.time_series import *\n",
    "from sklearn.metrics import (\n",
    "    mean_absolute_error,\n",
    "    mean_absolute_percentage_error,\n",
    "    r2_score,\n",
    ")\n",
    "\n",
    "# ปิดการแจ้งเตือน\n",
    "warnings.filterwarnings(\"ignore\")"
   ]
  },
  {
   "cell_type": "code",
   "execution_count": null,
   "metadata": {},
   "outputs": [],
   "source": []
  },
  {
   "cell_type": "code",
   "execution_count": null,
   "metadata": {},
   "outputs": [],
   "source": [
    "data = pd.read_csv(\"cleaned_data.csv\")"
   ]
  },
  {
   "cell_type": "code",
   "execution_count": null,
   "metadata": {},
   "outputs": [],
   "source": [
    "import pandas as pd\n",
    "\n",
    "\n",
    "# ✅ แปลงคอลัมน์ timestamp เป็น datetime\n",
    "data[\"timestamp\"] = pd.to_datetime(data[\"timestamp\"], format=\"mixed\")\n",
    "\n",
    "# ✅ ตั้งค่า index เป็น timestamp\n",
    "data = data.set_index(\"timestamp\")\n",
    "\n",
    "# ✅ สร้างช่วงเวลาที่สมบูรณ์ (รายชั่วโมง)\n",
    "start_time = data.index.min()  # เวลาเริ่มต้น\n",
    "end_time = data.index.max()  # เวลาสิ้นสุด\n",
    "complete_range = pd.date_range(\n",
    "    start=start_time, end=end_time, freq=\"H\"\n",
    ")  # สร้างช่วงเวลาที่สมบูรณ์\n",
    "\n",
    "# ✅ ตรวจสอบเวลาที่หายไป\n",
    "missing_times = complete_range.difference(data.index)  # หาช่วงเวลาที่หายไป\n",
    "\n",
    "# ✅ แสดงผลลัพธ์\n",
    "if len(missing_times) > 0:\n",
    "    print(\"เวลาที่หายไป:\")\n",
    "    print(missing_times)\n",
    "else:\n",
    "    print(\"ไม่มีเวลาที่หายไป\")"
   ]
  },
  {
   "cell_type": "code",
   "execution_count": null,
   "metadata": {},
   "outputs": [],
   "source": [
    "# ✅ ลบคอลัมน์ที่ไม่จำเป็น\n",
    "data.drop(\n",
    "    columns=[\n",
    "        \"Unnamed: 0\",\n",
    "        \"timezone\",\n",
    "        \"location\",\n",
    "        \"index\",\n",
    "        \"temperature\",\n",
    "        \"pm_10\",\n",
    "        \"humidity\",\n",
    "    ],\n",
    "    inplace=True,\n",
    "    errors=\"ignore\",\n",
    ")\n",
    "\n",
    "# ✅ แปลง timestamp และตั้งค่า index\n",
    "# data[\"timestamp\"] = pd.to_datetime(data[\"timestamp\"], format=\"mixed\")\n",
    "# data = data.set_index(\"timestamp\")\n",
    "\n",
    "print(data)"
   ]
  },
  {
   "cell_type": "code",
   "execution_count": null,
   "metadata": {},
   "outputs": [],
   "source": [
    "plt.plot(data.index, data[\"pm_2_5\"], label=\"Actual Test Data\", color=\"green\")"
   ]
  },
  {
   "cell_type": "code",
   "execution_count": null,
   "metadata": {},
   "outputs": [],
   "source": [
    "plt.plot(data.index[:450], data[\"pm_2_5\"][:450], label=\"Actual Test Data\", color=\"green\")"
   ]
  },
  {
   "cell_type": "code",
   "execution_count": null,
   "metadata": {},
   "outputs": [],
   "source": [
    "data = data[450:]"
   ]
  },
  {
   "cell_type": "code",
   "execution_count": null,
   "metadata": {},
   "outputs": [],
   "source": [
    "plt.plot(data.index, data[\"pm_2_5\"], label=\"Actual Test Data\", color=\"green\")"
   ]
  },
  {
   "cell_type": "code",
   "execution_count": null,
   "metadata": {},
   "outputs": [],
   "source": [
    "# ✅ สร้างช่วงเวลาที่สมบูรณ์ (รายชั่วโมง)\n",
    "start_time = data.index.min()  # เวลาเริ่มต้น\n",
    "end_time = data.index.max()  # เวลาสิ้นสุด\n",
    "complete_range = pd.date_range(\n",
    "    start=start_time, end=end_time, freq=\"H\"\n",
    ")  # สร้างช่วงเวลาที่สมบูรณ์\n",
    "# ✅ ตรวจสอบเวลาที่หายไป\n",
    "missing_times = complete_range.difference(data.index)  # หาช่วงเวลาที่หายไป\n",
    "\n",
    "# ✅ แสดงผลลัพธ์\n",
    "if len(missing_times) > 0:\n",
    "    print(\"เวลาที่หายไป:\")\n",
    "    print(missing_times)\n",
    "else:\n",
    "    print(\"ไม่มีเวลาที่หายไป\")"
   ]
  },
  {
   "cell_type": "code",
   "execution_count": null,
   "metadata": {},
   "outputs": [],
   "source": [
    "for col in data.select_dtypes(include=\"integer\").columns:\n",
    "    data[col] = data[col].astype(float)  # แปลงเป็น float ก่อน\n",
    "data = data.interpolate()"
   ]
  },
  {
   "cell_type": "code",
   "execution_count": null,
   "metadata": {},
   "outputs": [],
   "source": [
    "data"
   ]
  },
  {
   "cell_type": "code",
   "execution_count": null,
   "metadata": {},
   "outputs": [],
   "source": [
    "# ✅ ตรวจสอบเวลาที่หายไป\n",
    "missing_times = complete_range.difference(data.index)  # หาช่วงเวลาที่หายไป\n",
    "\n",
    "# ✅ แสดงผลลัพธ์\n",
    "if len(missing_times) > 0:\n",
    "    print(\"เวลาที่หายไป:\")\n",
    "    print(missing_times)\n",
    "else:\n",
    "    print(\"ไม่มีเวลาที่หายไป\")"
   ]
  },
  {
   "cell_type": "code",
   "execution_count": null,
   "metadata": {},
   "outputs": [],
   "source": [
    "# บันทึกชื่อ index เดิม\n",
    "index_name = data.index.name\n",
    "\n",
    "# เติมวันที่ขาดหายไป\n",
    "data = data.reindex(complete_range)\n",
    "\n",
    "# เติมค่าที่หายไปด้วย interpolation\n",
    "data = data.astype(float).interpolate()\n",
    "\n",
    "# ถ้ามี NaN ใช้ fillna()\n",
    "data = data.fillna(method=\"bfill\").fillna(method=\"ffill\")\n",
    "\n",
    "# ตั้งค่าชื่อ index กลับ\n",
    "data.index.name = index_name"
   ]
  },
  {
   "cell_type": "code",
   "execution_count": null,
   "metadata": {},
   "outputs": [],
   "source": [
    "# ✅ ตรวจสอบเวลาที่หายไป\n",
    "missing_times = complete_range.difference(data.index)  # หาช่วงเวลาที่หายไป\n",
    "\n",
    "# ✅ แสดงผลลัพธ์\n",
    "if len(missing_times) > 0:\n",
    "    print(\"เวลาที่หายไป:\")\n",
    "    print(missing_times)\n",
    "else:\n",
    "    print(\"ไม่มีเวลาที่หายไป\")"
   ]
  },
  {
   "cell_type": "code",
   "execution_count": null,
   "metadata": {},
   "outputs": [],
   "source": [
    "print(data)"
   ]
  },
  {
   "cell_type": "code",
   "execution_count": null,
   "metadata": {},
   "outputs": [],
   "source": [
    "plt.plot(data.index, data[\"pm_2_5\"], label=\"Actual Test Data\", color=\"green\")"
   ]
  },
  {
   "cell_type": "code",
   "execution_count": null,
   "metadata": {},
   "outputs": [],
   "source": [
    "# ✅ สร้างฟีเจอร์เชิงเวลา\n",
    "data[\"day_of_week\"] = data.index.dayofweek\n",
    "data[\"month\"] = data.index.month\n",
    "data[\"day_of_year\"] = data.index.dayofyear\n",
    "data[\"week_of_year\"] = data.index.isocalendar().week\n",
    "data[\"quarter\"] = data.index.quarter\n",
    "print(data)"
   ]
  },
  {
   "cell_type": "code",
   "execution_count": null,
   "metadata": {},
   "outputs": [],
   "source": [
    "# ✅ แบ่งข้อมูล Train/Test\n",
    "train = data.iloc[:-168]  # ใช้ข้อมูลทั้งหมด ยกเว้น 15 วันสุดท้าย\n",
    "test = data.iloc[-168:]  # 15 วันสุดท้ายสำหรับทดสอบ"
   ]
  },
  {
   "cell_type": "code",
   "execution_count": null,
   "metadata": {},
   "outputs": [],
   "source": [
    "data[\"week_of_year\"] = data[\"week_of_year\"].astype(\"int32\")"
   ]
  },
  {
   "cell_type": "code",
   "execution_count": null,
   "metadata": {},
   "outputs": [],
   "source": [
    "print(data.info())"
   ]
  },
  {
   "cell_type": "code",
   "execution_count": null,
   "metadata": {},
   "outputs": [],
   "source": [
    "exp = setup(\n",
    "    data=train,  # ข้อมูลที่ใช้\n",
    "    target=\"pm_2_5\",  # คอลัมน์เป้าหมาย (PM2.5)\n",
    "    ignore_features=[\n",
    "        # \"day_of_week\",\n",
    "        # \"month\",\n",
    "        # \"day_of_year\",\n",
    "        \"week_of_year\",\n",
    "        # \"quarter\",\n",
    "    ],  # ละเว้นฟีเจอร์ที่ไม่ต้องการ\n",
    "    fold_strategy=\"expanding\",  # กลยุทธ์การแบ่งข้อมูล\n",
    "    fold=2,  # จำนวน fold\n",
    "    fh=168,  # ทำนาย 7 วันข้างหน้า\n",
    "    seasonal_period=\"H\",  # ระบุ seasonal_period เป็นรายวัน\n",
    "    enforce_exogenous=True,  # ใช้ exogenous features\n",
    "    n_jobs=-1,  # ใช้ CPU ทั้งหมด\n",
    "    session_id=42,  # ตั้งค่า seed เพื่อให้ผลลัพธ์ reproducible\n",
    "    verbose=True,  # แสดงผลลัพธ์การตั้งค่า\n",
    "    use_gpu=True,\n",
    ")"
   ]
  },
  {
   "cell_type": "code",
   "execution_count": null,
   "metadata": {},
   "outputs": [],
   "source": [
    "print(data.dtypes)  # ต้องเป็น float หรือ int เท่านั้น\n",
    "print(data.isnull().sum())  # เช็กว่าไม่มี NaN"
   ]
  },
  {
   "cell_type": "code",
   "execution_count": null,
   "metadata": {},
   "outputs": [],
   "source": [
    "print(data)"
   ]
  },
  {
   "cell_type": "code",
   "execution_count": null,
   "metadata": {},
   "outputs": [],
   "source": [
    "if not isinstance(data.index, pd.DatetimeIndex):\n",
    "    data.index = pd.to_datetime(data.index)  # แปลง index เป็น datetime"
   ]
  },
  {
   "cell_type": "code",
   "execution_count": null,
   "metadata": {},
   "outputs": [],
   "source": [
    "# สร้างโมเดล ARIMA ด้วย Hyperparameters ที่ปรับแล้ว\n",
    "model = exp.create_model(\"arima\", order=(1, 1, 1), seasonal_order=(1, 1, 1, 12))  # ,\n",
    "model = exp.tune_model(model)\n",
    "model = exp.finalize_model(model)"
   ]
  },
  {
   "cell_type": "code",
   "execution_count": null,
   "metadata": {},
   "outputs": [],
   "source": [
    "print(test)\n",
    "test=test.drop(columns=\"week_of_year\")\n"
   ]
  },
  {
   "cell_type": "code",
   "execution_count": null,
   "metadata": {},
   "outputs": [],
   "source": [
    "test.index = test.index.to_period(\"H\")  # แปลงเป็นช่วงวัน (Daily Period)"
   ]
  },
  {
   "cell_type": "code",
   "execution_count": null,
   "metadata": {},
   "outputs": [],
   "source": [
    "predictions = predict_model(model, X=test.drop(columns=\"pm_2_5\"))  # ทำนาย 7 วันข้างหน้า\n",
    "print(predictions)"
   ]
  },
  {
   "cell_type": "code",
   "execution_count": null,
   "metadata": {},
   "outputs": [],
   "source": [
    "print(test.index)\n",
    "print(test.index.freq)"
   ]
  },
  {
   "cell_type": "code",
   "execution_count": null,
   "metadata": {},
   "outputs": [],
   "source": [
    "if len(test) > 0:\n",
    "    # ทำนายค่า test set\n",
    "    test_predictions = predict_model(model, X=test.drop(columns=[\"pm_2_5\"]))\n",
    "\n",
    "    # คำนวณค่าความผิดพลาด\n",
    "    mae = mean_absolute_error(test[\"pm_2_5\"], test_predictions[\"y_pred\"])\n",
    "    mape = (\n",
    "        mean_absolute_percentage_error(test[\"pm_2_5\"], test_predictions[\"y_pred\"]) * 100\n",
    "    )\n",
    "    r2 = r2_score(test[\"pm_2_5\"], test_predictions[\"y_pred\"])\n",
    "    # คำนวณความแม่นยำ (Acc uracy)\n",
    "    mean_actual = np.mean(test[\"pm_2_5\"])\n",
    "    accuracy = (1 - (mae / mean_actual)) * 100\n",
    "    print(\"\\nModel Performance on Test Set:\")\n",
    "    print(f\"MAE: {mae:.2f}\")\n",
    "    print(f\"MAPE: {mape:.2f}%\")\n",
    "    print(f\"R²: {r2:.4f}\")\n",
    "    print(accuracy)"
   ]
  },
  {
   "cell_type": "code",
   "execution_count": null,
   "metadata": {},
   "outputs": [],
   "source": [
    "test.index = test.index.to_timestamp()\n",
    "# ✅ แสดงกราฟผลการพยากรณ์\n",
    "plt.figure(figsize=(12, 6))\n",
    "# แสดงข้อมูล 30 วันล่าสุดจาก historical data\n",
    "# plt.plot(data.index[-30:], data[\"pm_2_5\"][-30:], label=\"Historical Data\", color=\"blue\")\n",
    "# แสดงข้อมูลจริงของ test set (ถ้ามี)\n",
    "plt.plot(test.index, test[\"pm_2_5\"], label=\"Actual Test Data\", color=\"green\")\n",
    "# แสดงค่าที่ทำนาย\n",
    "plt.plot(\n",
    "    test.index,\n",
    "    predictions[\"y_pred\"],\n",
    "    label=\"7-Day Forecast\",\n",
    "    color=\"red\",\n",
    "    linestyle=\"dashed\",\n",
    ")\n",
    "\n",
    "plt.legend()\n",
    "plt.title(\"PM2.5 Forecast for Next 7 Days\")\n",
    "plt.xlabel(\"Date\")\n",
    "plt.ylabel(\"PM2.5\")\n",
    "plt.grid(True, linestyle=\"--\", alpha=0.7)\n",
    "plt.tight_layout()\n",
    "plt.show()"
   ]
  }
 ],
 "metadata": {
  "kernelspec": {
   "display_name": "Python (myenv)",
   "language": "python",
   "name": "myenv"
  },
  "language_info": {
   "codemirror_mode": {
    "name": "ipython",
    "version": 3
   },
   "file_extension": ".py",
   "mimetype": "text/x-python",
   "name": "python",
   "nbconvert_exporter": "python",
   "pygments_lexer": "ipython3",
   "version": "3.12.3"
  }
 },
 "nbformat": 4,
 "nbformat_minor": 2
}
