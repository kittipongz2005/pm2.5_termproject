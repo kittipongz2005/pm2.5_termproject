{
 "cells": [
  {
   "cell_type": "code",
   "execution_count": 1,
   "metadata": {},
   "outputs": [
    {
     "name": "stdout",
     "output_type": "stream",
     "text": [
      "Requirement already satisfied: matplotlib in c:\\users\\aufaw_nq8olti\\appdata\\local\\programs\\python\\python312\\lib\\site-packages (3.10.1)\n",
      "Requirement already satisfied: contourpy>=1.0.1 in c:\\users\\aufaw_nq8olti\\appdata\\local\\programs\\python\\python312\\lib\\site-packages (from matplotlib) (1.3.1)\n",
      "Requirement already satisfied: cycler>=0.10 in c:\\users\\aufaw_nq8olti\\appdata\\local\\programs\\python\\python312\\lib\\site-packages (from matplotlib) (0.12.1)\n",
      "Requirement already satisfied: fonttools>=4.22.0 in c:\\users\\aufaw_nq8olti\\appdata\\local\\programs\\python\\python312\\lib\\site-packages (from matplotlib) (4.56.0)\n",
      "Requirement already satisfied: kiwisolver>=1.3.1 in c:\\users\\aufaw_nq8olti\\appdata\\local\\programs\\python\\python312\\lib\\site-packages (from matplotlib) (1.4.8)\n",
      "Requirement already satisfied: numpy>=1.23 in c:\\users\\aufaw_nq8olti\\appdata\\local\\programs\\python\\python312\\lib\\site-packages (from matplotlib) (1.26.4)\n",
      "Requirement already satisfied: packaging>=20.0 in c:\\users\\aufaw_nq8olti\\appdata\\roaming\\python\\python312\\site-packages (from matplotlib) (24.1)\n",
      "Requirement already satisfied: pillow>=8 in c:\\users\\aufaw_nq8olti\\appdata\\local\\programs\\python\\python312\\lib\\site-packages (from matplotlib) (11.1.0)\n",
      "Requirement already satisfied: pyparsing>=2.3.1 in c:\\users\\aufaw_nq8olti\\appdata\\local\\programs\\python\\python312\\lib\\site-packages (from matplotlib) (3.2.1)\n",
      "Requirement already satisfied: python-dateutil>=2.7 in c:\\users\\aufaw_nq8olti\\appdata\\roaming\\python\\python312\\site-packages (from matplotlib) (2.9.0.post0)\n",
      "Requirement already satisfied: six>=1.5 in c:\\users\\aufaw_nq8olti\\appdata\\roaming\\python\\python312\\site-packages (from python-dateutil>=2.7->matplotlib) (1.16.0)\n",
      "Note: you may need to restart the kernel to use updated packages.\n"
     ]
    },
    {
     "name": "stderr",
     "output_type": "stream",
     "text": [
      "WARNING: Ignoring invalid distribution ~atplotlib (c:\\Users\\aufaw_nq8olti\\AppData\\Local\\Programs\\Python\\Python312\\Lib\\site-packages)\n",
      "WARNING: Ignoring invalid distribution ~atplotlib (c:\\Users\\aufaw_nq8olti\\AppData\\Local\\Programs\\Python\\Python312\\Lib\\site-packages)\n",
      "WARNING: Ignoring invalid distribution ~atplotlib (c:\\Users\\aufaw_nq8olti\\AppData\\Local\\Programs\\Python\\Python312\\Lib\\site-packages)\n"
     ]
    }
   ],
   "source": [
    "pip install matplotlib"
   ]
  },
  {
   "cell_type": "code",
   "execution_count": 2,
   "metadata": {},
   "outputs": [
    {
     "name": "stdout",
     "output_type": "stream",
     "text": [
      "Collecting pycaretNote: you may need to restart the kernel to use updated packages.\n",
      "\n",
      "  Using cached pycaret-3.3.2-py3-none-any.whl.metadata (17 kB)\n",
      "Requirement already satisfied: ipython>=5.5.0 in c:\\users\\aufaw_nq8olti\\appdata\\roaming\\python\\python312\\site-packages (from pycaret) (8.27.0)\n",
      "Collecting ipywidgets>=7.6.5 (from pycaret)\n",
      "  Using cached ipywidgets-8.1.5-py3-none-any.whl.metadata (2.3 kB)\n",
      "Requirement already satisfied: tqdm>=4.62.0 in c:\\users\\aufaw_nq8olti\\appdata\\local\\programs\\python\\python312\\lib\\site-packages (from pycaret) (4.67.1)\n",
      "Requirement already satisfied: numpy<1.27,>=1.21 in c:\\users\\aufaw_nq8olti\\appdata\\local\\programs\\python\\python312\\lib\\site-packages (from pycaret) (1.26.4)\n",
      "Requirement already satisfied: pandas<2.2.0 in c:\\users\\aufaw_nq8olti\\appdata\\local\\programs\\python\\python312\\lib\\site-packages (from pycaret) (2.1.4)\n",
      "Requirement already satisfied: jinja2>=3 in c:\\users\\aufaw_nq8olti\\appdata\\local\\programs\\python\\python312\\lib\\site-packages (from pycaret) (3.1.5)\n",
      "Requirement already satisfied: scipy<=1.11.4,>=1.6.1 in c:\\users\\aufaw_nq8olti\\appdata\\local\\programs\\python\\python312\\lib\\site-packages (from pycaret) (1.11.4)\n",
      "Requirement already satisfied: joblib<1.4,>=1.2.0 in c:\\users\\aufaw_nq8olti\\appdata\\local\\programs\\python\\python312\\lib\\site-packages (from pycaret) (1.3.2)\n",
      "Requirement already satisfied: scikit-learn>1.4.0 in c:\\users\\aufaw_nq8olti\\appdata\\local\\programs\\python\\python312\\lib\\site-packages (from pycaret) (1.4.2)\n",
      "Collecting pyod>=1.1.3 (from pycaret)\n",
      "  Using cached pyod-2.0.3-py3-none-any.whl\n",
      "Collecting imbalanced-learn>=0.12.0 (from pycaret)\n",
      "  Using cached imbalanced_learn-0.13.0-py3-none-any.whl.metadata (8.8 kB)\n",
      "Collecting category-encoders>=2.4.0 (from pycaret)\n",
      "  Using cached category_encoders-2.8.0-py3-none-any.whl.metadata (7.9 kB)\n",
      "Collecting lightgbm>=3.0.0 (from pycaret)\n",
      "  Using cached lightgbm-4.6.0-py3-none-win_amd64.whl.metadata (17 kB)\n",
      "Requirement already satisfied: numba>=0.55.0 in c:\\users\\aufaw_nq8olti\\appdata\\local\\programs\\python\\python312\\lib\\site-packages (from pycaret) (0.61.0)\n",
      "Requirement already satisfied: requests>=2.27.1 in c:\\users\\aufaw_nq8olti\\appdata\\local\\programs\\python\\python312\\lib\\site-packages (from pycaret) (2.32.3)\n",
      "Requirement already satisfied: psutil>=5.9.0 in c:\\users\\aufaw_nq8olti\\appdata\\roaming\\python\\python312\\site-packages (from pycaret) (6.0.0)\n",
      "Requirement already satisfied: markupsafe>=2.0.1 in c:\\users\\aufaw_nq8olti\\appdata\\local\\programs\\python\\python312\\lib\\site-packages (from pycaret) (3.0.2)\n",
      "Requirement already satisfied: importlib-metadata>=4.12.0 in c:\\users\\aufaw_nq8olti\\appdata\\local\\programs\\python\\python312\\lib\\site-packages (from pycaret) (8.6.1)\n",
      "Collecting nbformat>=4.2.0 (from pycaret)\n",
      "  Using cached nbformat-5.10.4-py3-none-any.whl.metadata (3.6 kB)\n",
      "Requirement already satisfied: cloudpickle in c:\\users\\aufaw_nq8olti\\appdata\\local\\programs\\python\\python312\\lib\\site-packages (from pycaret) (3.1.1)\n",
      "Requirement already satisfied: deprecation>=2.1.0 in c:\\users\\aufaw_nq8olti\\appdata\\local\\programs\\python\\python312\\lib\\site-packages (from pycaret) (2.1.0)\n",
      "Requirement already satisfied: xxhash in c:\\users\\aufaw_nq8olti\\appdata\\local\\programs\\python\\python312\\lib\\site-packages (from pycaret) (3.5.0)\n",
      "Collecting matplotlib<3.8.0 (from pycaret)\n",
      "  Using cached matplotlib-3.7.5-cp312-cp312-win_amd64.whl.metadata (5.8 kB)\n",
      "Collecting scikit-plot>=0.3.7 (from pycaret)\n",
      "  Using cached scikit_plot-0.3.7-py3-none-any.whl.metadata (7.1 kB)\n",
      "Collecting yellowbrick>=1.4 (from pycaret)\n",
      "  Using cached yellowbrick-1.5-py3-none-any.whl.metadata (7.7 kB)\n",
      "Requirement already satisfied: plotly>=5.14.0 in c:\\users\\aufaw_nq8olti\\appdata\\local\\programs\\python\\python312\\lib\\site-packages (from pycaret) (5.24.1)\n",
      "Requirement already satisfied: kaleido>=0.2.1 in c:\\users\\aufaw_nq8olti\\appdata\\local\\programs\\python\\python312\\lib\\site-packages (from pycaret) (0.2.1)\n",
      "Requirement already satisfied: schemdraw==0.15 in c:\\users\\aufaw_nq8olti\\appdata\\local\\programs\\python\\python312\\lib\\site-packages (from pycaret) (0.15)\n",
      "Collecting plotly-resampler>=0.8.3.1 (from pycaret)\n",
      "  Using cached plotly_resampler-0.10.0-py3-none-any.whl.metadata (13 kB)\n",
      "Requirement already satisfied: statsmodels>=0.12.1 in c:\\users\\aufaw_nq8olti\\appdata\\local\\programs\\python\\python312\\lib\\site-packages (from pycaret) (0.14.4)\n",
      "Collecting sktime==0.26.0 (from pycaret)\n",
      "  Using cached sktime-0.26.0-py3-none-any.whl.metadata (29 kB)\n",
      "Collecting tbats>=1.1.3 (from pycaret)\n",
      "  Using cached tbats-1.1.3-py3-none-any.whl.metadata (3.8 kB)\n",
      "Collecting pmdarima>=2.0.4 (from pycaret)\n",
      "  Using cached pmdarima-2.0.4-cp312-cp312-win_amd64.whl.metadata (8.0 kB)\n",
      "Requirement already satisfied: packaging in c:\\users\\aufaw_nq8olti\\appdata\\roaming\\python\\python312\\site-packages (from sktime==0.26.0->pycaret) (24.1)\n",
      "Requirement already satisfied: scikit-base<0.8.0 in c:\\users\\aufaw_nq8olti\\appdata\\local\\programs\\python\\python312\\lib\\site-packages (from sktime==0.26.0->pycaret) (0.7.8)\n",
      "Requirement already satisfied: patsy>=0.5.1 in c:\\users\\aufaw_nq8olti\\appdata\\local\\programs\\python\\python312\\lib\\site-packages (from category-encoders>=2.4.0->pycaret) (1.0.1)\n",
      "INFO: pip is looking at multiple versions of category-encoders to determine which version is compatible with other requirements. This could take a while.\n",
      "Collecting category-encoders>=2.4.0 (from pycaret)\n",
      "  Using cached category_encoders-2.7.0-py3-none-any.whl.metadata (7.9 kB)\n",
      "Collecting sklearn-compat<1,>=0.1 (from imbalanced-learn>=0.12.0->pycaret)\n",
      "  Using cached sklearn_compat-0.1.3-py3-none-any.whl.metadata (18 kB)\n",
      "Requirement already satisfied: threadpoolctl<4,>=2.0.0 in c:\\users\\aufaw_nq8olti\\appdata\\local\\programs\\python\\python312\\lib\\site-packages (from imbalanced-learn>=0.12.0->pycaret) (3.5.0)\n",
      "Requirement already satisfied: zipp>=3.20 in c:\\users\\aufaw_nq8olti\\appdata\\local\\programs\\python\\python312\\lib\\site-packages (from importlib-metadata>=4.12.0->pycaret) (3.21.0)\n",
      "Requirement already satisfied: decorator in c:\\users\\aufaw_nq8olti\\appdata\\roaming\\python\\python312\\site-packages (from ipython>=5.5.0->pycaret) (5.1.1)\n",
      "Requirement already satisfied: jedi>=0.16 in c:\\users\\aufaw_nq8olti\\appdata\\roaming\\python\\python312\\site-packages (from ipython>=5.5.0->pycaret) (0.19.1)\n",
      "Requirement already satisfied: matplotlib-inline in c:\\users\\aufaw_nq8olti\\appdata\\roaming\\python\\python312\\site-packages (from ipython>=5.5.0->pycaret) (0.1.7)\n",
      "Requirement already satisfied: prompt-toolkit<3.1.0,>=3.0.41 in c:\\users\\aufaw_nq8olti\\appdata\\roaming\\python\\python312\\site-packages (from ipython>=5.5.0->pycaret) (3.0.47)\n",
      "Requirement already satisfied: pygments>=2.4.0 in c:\\users\\aufaw_nq8olti\\appdata\\roaming\\python\\python312\\site-packages (from ipython>=5.5.0->pycaret) (2.18.0)\n",
      "Requirement already satisfied: stack-data in c:\\users\\aufaw_nq8olti\\appdata\\roaming\\python\\python312\\site-packages (from ipython>=5.5.0->pycaret) (0.6.3)\n",
      "Requirement already satisfied: traitlets>=5.13.0 in c:\\users\\aufaw_nq8olti\\appdata\\roaming\\python\\python312\\site-packages (from ipython>=5.5.0->pycaret) (5.14.3)\n",
      "Requirement already satisfied: colorama in c:\\users\\aufaw_nq8olti\\appdata\\roaming\\python\\python312\\site-packages (from ipython>=5.5.0->pycaret) (0.4.6)\n",
      "Requirement already satisfied: comm>=0.1.3 in c:\\users\\aufaw_nq8olti\\appdata\\roaming\\python\\python312\\site-packages (from ipywidgets>=7.6.5->pycaret) (0.2.2)\n",
      "Requirement already satisfied: widgetsnbextension~=4.0.12 in c:\\users\\aufaw_nq8olti\\appdata\\local\\programs\\python\\python312\\lib\\site-packages (from ipywidgets>=7.6.5->pycaret) (4.0.13)\n",
      "Requirement already satisfied: jupyterlab-widgets~=3.0.12 in c:\\users\\aufaw_nq8olti\\appdata\\local\\programs\\python\\python312\\lib\\site-packages (from ipywidgets>=7.6.5->pycaret) (3.0.13)\n",
      "Requirement already satisfied: contourpy>=1.0.1 in c:\\users\\aufaw_nq8olti\\appdata\\local\\programs\\python\\python312\\lib\\site-packages (from matplotlib<3.8.0->pycaret) (1.3.1)\n",
      "Requirement already satisfied: cycler>=0.10 in c:\\users\\aufaw_nq8olti\\appdata\\local\\programs\\python\\python312\\lib\\site-packages (from matplotlib<3.8.0->pycaret) (0.12.1)\n",
      "Requirement already satisfied: fonttools>=4.22.0 in c:\\users\\aufaw_nq8olti\\appdata\\local\\programs\\python\\python312\\lib\\site-packages (from matplotlib<3.8.0->pycaret) (4.56.0)\n",
      "Requirement already satisfied: kiwisolver>=1.0.1 in c:\\users\\aufaw_nq8olti\\appdata\\local\\programs\\python\\python312\\lib\\site-packages (from matplotlib<3.8.0->pycaret) (1.4.8)\n",
      "Requirement already satisfied: pillow>=6.2.0 in c:\\users\\aufaw_nq8olti\\appdata\\local\\programs\\python\\python312\\lib\\site-packages (from matplotlib<3.8.0->pycaret) (11.1.0)\n",
      "Requirement already satisfied: pyparsing>=2.3.1 in c:\\users\\aufaw_nq8olti\\appdata\\local\\programs\\python\\python312\\lib\\site-packages (from matplotlib<3.8.0->pycaret) (3.2.1)\n",
      "Requirement already satisfied: python-dateutil>=2.7 in c:\\users\\aufaw_nq8olti\\appdata\\roaming\\python\\python312\\site-packages (from matplotlib<3.8.0->pycaret) (2.9.0.post0)\n",
      "Requirement already satisfied: fastjsonschema>=2.15 in c:\\users\\aufaw_nq8olti\\appdata\\local\\programs\\python\\python312\\lib\\site-packages (from nbformat>=4.2.0->pycaret) (2.21.1)\n",
      "Collecting jsonschema>=2.6 (from nbformat>=4.2.0->pycaret)\n",
      "  Using cached jsonschema-4.23.0-py3-none-any.whl.metadata (7.9 kB)\n",
      "Requirement already satisfied: jupyter-core!=5.0.*,>=4.12 in c:\\users\\aufaw_nq8olti\\appdata\\roaming\\python\\python312\\site-packages (from nbformat>=4.2.0->pycaret) (5.7.2)\n",
      "Requirement already satisfied: llvmlite<0.45,>=0.44.0dev0 in c:\\users\\aufaw_nq8olti\\appdata\\local\\programs\\python\\python312\\lib\\site-packages (from numba>=0.55.0->pycaret) (0.44.0)\n",
      "Requirement already satisfied: pytz>=2020.1 in c:\\users\\aufaw_nq8olti\\appdata\\local\\programs\\python\\python312\\lib\\site-packages (from pandas<2.2.0->pycaret) (2025.1)\n",
      "Requirement already satisfied: tzdata>=2022.1 in c:\\users\\aufaw_nq8olti\\appdata\\local\\programs\\python\\python312\\lib\\site-packages (from pandas<2.2.0->pycaret) (2025.1)\n",
      "Requirement already satisfied: tenacity>=6.2.0 in c:\\users\\aufaw_nq8olti\\appdata\\local\\programs\\python\\python312\\lib\\site-packages (from plotly>=5.14.0->pycaret) (9.0.0)\n",
      "Collecting dash>=2.9.0 (from plotly-resampler>=0.8.3.1->pycaret)\n",
      "  Using cached dash-2.18.2-py3-none-any.whl.metadata (10 kB)\n",
      "Requirement already satisfied: orjson<4.0.0,>=3.8.0 in c:\\users\\aufaw_nq8olti\\appdata\\local\\programs\\python\\python312\\lib\\site-packages (from plotly-resampler>=0.8.3.1->pycaret) (3.10.15)\n",
      "Requirement already satisfied: tsdownsample>=0.1.3 in c:\\users\\aufaw_nq8olti\\appdata\\local\\programs\\python\\python312\\lib\\site-packages (from plotly-resampler>=0.8.3.1->pycaret) (0.1.4.1)\n",
      "Requirement already satisfied: Cython!=0.29.18,!=0.29.31,>=0.29 in c:\\users\\aufaw_nq8olti\\appdata\\local\\programs\\python\\python312\\lib\\site-packages (from pmdarima>=2.0.4->pycaret) (3.0.12)\n",
      "Requirement already satisfied: urllib3 in c:\\users\\aufaw_nq8olti\\appdata\\local\\programs\\python\\python312\\lib\\site-packages (from pmdarima>=2.0.4->pycaret) (2.2.3)\n",
      "Requirement already satisfied: setuptools!=50.0.0,>=38.6.0 in c:\\users\\aufaw_nq8olti\\appdata\\local\\programs\\python\\python312\\lib\\site-packages (from pmdarima>=2.0.4->pycaret) (75.8.2)\n",
      "Requirement already satisfied: charset-normalizer<4,>=2 in c:\\users\\aufaw_nq8olti\\appdata\\local\\programs\\python\\python312\\lib\\site-packages (from requests>=2.27.1->pycaret) (3.4.0)\n",
      "Requirement already satisfied: idna<4,>=2.5 in c:\\users\\aufaw_nq8olti\\appdata\\local\\programs\\python\\python312\\lib\\site-packages (from requests>=2.27.1->pycaret) (3.10)\n",
      "Requirement already satisfied: certifi>=2017.4.17 in c:\\users\\aufaw_nq8olti\\appdata\\local\\programs\\python\\python312\\lib\\site-packages (from requests>=2.27.1->pycaret) (2024.12.14)\n",
      "Requirement already satisfied: Flask<3.1,>=1.0.4 in c:\\users\\aufaw_nq8olti\\appdata\\local\\programs\\python\\python312\\lib\\site-packages (from dash>=2.9.0->plotly-resampler>=0.8.3.1->pycaret) (3.0.3)\n",
      "Requirement already satisfied: Werkzeug<3.1 in c:\\users\\aufaw_nq8olti\\appdata\\local\\programs\\python\\python312\\lib\\site-packages (from dash>=2.9.0->plotly-resampler>=0.8.3.1->pycaret) (3.0.6)\n",
      "Requirement already satisfied: dash-html-components==2.0.0 in c:\\users\\aufaw_nq8olti\\appdata\\local\\programs\\python\\python312\\lib\\site-packages (from dash>=2.9.0->plotly-resampler>=0.8.3.1->pycaret) (2.0.0)\n",
      "Requirement already satisfied: dash-core-components==2.0.0 in c:\\users\\aufaw_nq8olti\\appdata\\local\\programs\\python\\python312\\lib\\site-packages (from dash>=2.9.0->plotly-resampler>=0.8.3.1->pycaret) (2.0.0)\n",
      "Requirement already satisfied: dash-table==5.0.0 in c:\\users\\aufaw_nq8olti\\appdata\\local\\programs\\python\\python312\\lib\\site-packages (from dash>=2.9.0->plotly-resampler>=0.8.3.1->pycaret) (5.0.0)\n",
      "Requirement already satisfied: typing-extensions>=4.1.1 in c:\\users\\aufaw_nq8olti\\appdata\\local\\programs\\python\\python312\\lib\\site-packages (from dash>=2.9.0->plotly-resampler>=0.8.3.1->pycaret) (4.12.2)\n",
      "Requirement already satisfied: retrying in c:\\users\\aufaw_nq8olti\\appdata\\local\\programs\\python\\python312\\lib\\site-packages (from dash>=2.9.0->plotly-resampler>=0.8.3.1->pycaret) (1.3.4)\n",
      "Requirement already satisfied: nest-asyncio in c:\\users\\aufaw_nq8olti\\appdata\\roaming\\python\\python312\\site-packages (from dash>=2.9.0->plotly-resampler>=0.8.3.1->pycaret) (1.6.0)\n",
      "Requirement already satisfied: parso<0.9.0,>=0.8.3 in c:\\users\\aufaw_nq8olti\\appdata\\roaming\\python\\python312\\site-packages (from jedi>=0.16->ipython>=5.5.0->pycaret) (0.8.4)\n",
      "Requirement already satisfied: attrs>=22.2.0 in c:\\users\\aufaw_nq8olti\\appdata\\local\\programs\\python\\python312\\lib\\site-packages (from jsonschema>=2.6->nbformat>=4.2.0->pycaret) (25.1.0)\n",
      "Collecting jsonschema-specifications>=2023.03.6 (from jsonschema>=2.6->nbformat>=4.2.0->pycaret)\n",
      "  Using cached jsonschema_specifications-2024.10.1-py3-none-any.whl.metadata (3.0 kB)\n",
      "Requirement already satisfied: referencing>=0.28.4 in c:\\users\\aufaw_nq8olti\\appdata\\local\\programs\\python\\python312\\lib\\site-packages (from jsonschema>=2.6->nbformat>=4.2.0->pycaret) (0.36.2)\n",
      "Requirement already satisfied: rpds-py>=0.7.1 in c:\\users\\aufaw_nq8olti\\appdata\\local\\programs\\python\\python312\\lib\\site-packages (from jsonschema>=2.6->nbformat>=4.2.0->pycaret) (0.23.1)\n",
      "Requirement already satisfied: platformdirs>=2.5 in c:\\users\\aufaw_nq8olti\\appdata\\roaming\\python\\python312\\site-packages (from jupyter-core!=5.0.*,>=4.12->nbformat>=4.2.0->pycaret) (4.3.6)\n",
      "Requirement already satisfied: pywin32>=300 in c:\\users\\aufaw_nq8olti\\appdata\\roaming\\python\\python312\\site-packages (from jupyter-core!=5.0.*,>=4.12->nbformat>=4.2.0->pycaret) (306)\n",
      "Requirement already satisfied: wcwidth in c:\\users\\aufaw_nq8olti\\appdata\\roaming\\python\\python312\\site-packages (from prompt-toolkit<3.1.0,>=3.0.41->ipython>=5.5.0->pycaret) (0.2.13)\n",
      "Requirement already satisfied: six>=1.5 in c:\\users\\aufaw_nq8olti\\appdata\\roaming\\python\\python312\\site-packages (from python-dateutil>=2.7->matplotlib<3.8.0->pycaret) (1.16.0)\n",
      "Requirement already satisfied: executing>=1.2.0 in c:\\users\\aufaw_nq8olti\\appdata\\roaming\\python\\python312\\site-packages (from stack-data->ipython>=5.5.0->pycaret) (2.1.0)\n",
      "Requirement already satisfied: asttokens>=2.1.0 in c:\\users\\aufaw_nq8olti\\appdata\\roaming\\python\\python312\\site-packages (from stack-data->ipython>=5.5.0->pycaret) (2.4.1)\n",
      "Requirement already satisfied: pure-eval in c:\\users\\aufaw_nq8olti\\appdata\\roaming\\python\\python312\\site-packages (from stack-data->ipython>=5.5.0->pycaret) (0.2.3)\n",
      "Requirement already satisfied: itsdangerous>=2.1.2 in c:\\users\\aufaw_nq8olti\\appdata\\local\\programs\\python\\python312\\lib\\site-packages (from Flask<3.1,>=1.0.4->dash>=2.9.0->plotly-resampler>=0.8.3.1->pycaret) (2.2.0)\n",
      "Requirement already satisfied: click>=8.1.3 in c:\\users\\aufaw_nq8olti\\appdata\\local\\programs\\python\\python312\\lib\\site-packages (from Flask<3.1,>=1.0.4->dash>=2.9.0->plotly-resampler>=0.8.3.1->pycaret) (8.1.8)\n",
      "Requirement already satisfied: blinker>=1.6.2 in c:\\users\\aufaw_nq8olti\\appdata\\local\\programs\\python\\python312\\lib\\site-packages (from Flask<3.1,>=1.0.4->dash>=2.9.0->plotly-resampler>=0.8.3.1->pycaret) (1.9.0)\n",
      "Using cached pycaret-3.3.2-py3-none-any.whl (486 kB)\n",
      "Using cached sktime-0.26.0-py3-none-any.whl (21.8 MB)\n",
      "Using cached category_encoders-2.7.0-py3-none-any.whl (85 kB)\n",
      "Using cached imbalanced_learn-0.13.0-py3-none-any.whl (238 kB)\n",
      "Using cached ipywidgets-8.1.5-py3-none-any.whl (139 kB)\n",
      "Using cached lightgbm-4.6.0-py3-none-win_amd64.whl (1.5 MB)\n",
      "Using cached matplotlib-3.7.5-cp312-cp312-win_amd64.whl (7.5 MB)\n",
      "Using cached nbformat-5.10.4-py3-none-any.whl (78 kB)\n",
      "Using cached plotly_resampler-0.10.0-py3-none-any.whl (80 kB)\n",
      "Using cached pmdarima-2.0.4-cp312-cp312-win_amd64.whl (625 kB)\n",
      "Using cached scikit_plot-0.3.7-py3-none-any.whl (33 kB)\n",
      "Using cached tbats-1.1.3-py3-none-any.whl (44 kB)\n",
      "Using cached yellowbrick-1.5-py3-none-any.whl (282 kB)\n",
      "Using cached dash-2.18.2-py3-none-any.whl (7.8 MB)\n",
      "Using cached jsonschema-4.23.0-py3-none-any.whl (88 kB)\n",
      "Using cached sklearn_compat-0.1.3-py3-none-any.whl (18 kB)\n",
      "Using cached jsonschema_specifications-2024.10.1-py3-none-any.whl (18 kB)\n",
      "Installing collected packages: matplotlib, lightgbm, jsonschema-specifications, yellowbrick, sktime, sklearn-compat, scikit-plot, pyod, jsonschema, dash, pmdarima, plotly-resampler, nbformat, ipywidgets, imbalanced-learn, category-encoders, tbats, pycaret\n",
      "  Attempting uninstall: matplotlib\n",
      "    Found existing installation: matplotlib 3.10.1\n"
     ]
    },
    {
     "name": "stderr",
     "output_type": "stream",
     "text": [
      "WARNING: Ignoring invalid distribution ~atplotlib (c:\\Users\\aufaw_nq8olti\\AppData\\Local\\Programs\\Python\\Python312\\Lib\\site-packages)\n",
      "WARNING: Ignoring invalid distribution ~atplotlib (c:\\Users\\aufaw_nq8olti\\AppData\\Local\\Programs\\Python\\Python312\\Lib\\site-packages)\n",
      "error: uninstall-no-record-file\n",
      "\n",
      "× Cannot uninstall matplotlib 3.10.1\n",
      "╰─> The package's contents are unknown: no RECORD file was found for matplotlib.\n",
      "\n",
      "hint: You might be able to recover from this via: pip install --force-reinstall --no-deps matplotlib==3.10.1\n"
     ]
    }
   ],
   "source": [
    "pip install pycaret\n"
   ]
  },
  {
   "cell_type": "code",
   "execution_count": 3,
   "metadata": {},
   "outputs": [
    {
     "ename": "ModuleNotFoundError",
     "evalue": "No module named 'matplotlib.backends.registry'",
     "output_type": "error",
     "traceback": [
      "\u001b[1;31m---------------------------------------------------------------------------\u001b[0m",
      "\u001b[1;31mModuleNotFoundError\u001b[0m                       Traceback (most recent call last)",
      "Cell \u001b[1;32mIn[3], line 3\u001b[0m\n\u001b[0;32m      1\u001b[0m \u001b[38;5;28;01mimport\u001b[39;00m \u001b[38;5;21;01mpandas\u001b[39;00m \u001b[38;5;28;01mas\u001b[39;00m \u001b[38;5;21;01mpd\u001b[39;00m\n\u001b[0;32m      2\u001b[0m \u001b[38;5;28;01mimport\u001b[39;00m \u001b[38;5;21;01mnumpy\u001b[39;00m \u001b[38;5;28;01mas\u001b[39;00m \u001b[38;5;21;01mnp\u001b[39;00m\n\u001b[1;32m----> 3\u001b[0m \u001b[38;5;28;01mimport\u001b[39;00m \u001b[38;5;21;01mmatplotlib\u001b[39;00m\u001b[38;5;21;01m.\u001b[39;00m\u001b[38;5;21;01mpyplot\u001b[39;00m \u001b[38;5;28;01mas\u001b[39;00m \u001b[38;5;21;01mplt\u001b[39;00m\n\u001b[0;32m      4\u001b[0m \u001b[38;5;28;01mimport\u001b[39;00m \u001b[38;5;21;01mwarnings\u001b[39;00m\n\u001b[0;32m      5\u001b[0m \u001b[38;5;28;01mfrom\u001b[39;00m \u001b[38;5;21;01mpycaret\u001b[39;00m\u001b[38;5;21;01m.\u001b[39;00m\u001b[38;5;21;01mtime_series\u001b[39;00m \u001b[38;5;28;01mimport\u001b[39;00m \u001b[38;5;241m*\u001b[39m\n",
      "File \u001b[1;32mc:\\Users\\aufaw_nq8olti\\AppData\\Local\\Programs\\Python\\Python312\\Lib\\site-packages\\matplotlib\\__init__.py:161\u001b[0m\n\u001b[0;32m    157\u001b[0m \u001b[38;5;28;01mfrom\u001b[39;00m \u001b[38;5;21;01mpackaging\u001b[39;00m\u001b[38;5;21;01m.\u001b[39;00m\u001b[38;5;21;01mversion\u001b[39;00m \u001b[38;5;28;01mimport\u001b[39;00m parse \u001b[38;5;28;01mas\u001b[39;00m parse_version\n\u001b[0;32m    159\u001b[0m \u001b[38;5;66;03m# cbook must import matplotlib only within function\u001b[39;00m\n\u001b[0;32m    160\u001b[0m \u001b[38;5;66;03m# definitions, so it is safe to import from it here.\u001b[39;00m\n\u001b[1;32m--> 161\u001b[0m \u001b[38;5;28;01mfrom\u001b[39;00m \u001b[38;5;21;01m.\u001b[39;00m \u001b[38;5;28;01mimport\u001b[39;00m _api, _version, cbook, _docstring, rcsetup\n\u001b[0;32m    162\u001b[0m \u001b[38;5;28;01mfrom\u001b[39;00m \u001b[38;5;21;01mmatplotlib\u001b[39;00m\u001b[38;5;21;01m.\u001b[39;00m\u001b[38;5;21;01m_api\u001b[39;00m \u001b[38;5;28;01mimport\u001b[39;00m MatplotlibDeprecationWarning\n\u001b[0;32m    163\u001b[0m \u001b[38;5;28;01mfrom\u001b[39;00m \u001b[38;5;21;01mmatplotlib\u001b[39;00m\u001b[38;5;21;01m.\u001b[39;00m\u001b[38;5;21;01mrcsetup\u001b[39;00m \u001b[38;5;28;01mimport\u001b[39;00m cycler  \u001b[38;5;66;03m# noqa: F401\u001b[39;00m\n",
      "File \u001b[1;32mc:\\Users\\aufaw_nq8olti\\AppData\\Local\\Programs\\Python\\Python312\\Lib\\site-packages\\matplotlib\\rcsetup.py:26\u001b[0m\n\u001b[0;32m     23\u001b[0m \u001b[38;5;28;01mimport\u001b[39;00m \u001b[38;5;21;01mnumpy\u001b[39;00m \u001b[38;5;28;01mas\u001b[39;00m \u001b[38;5;21;01mnp\u001b[39;00m\n\u001b[0;32m     25\u001b[0m \u001b[38;5;28;01mfrom\u001b[39;00m \u001b[38;5;21;01mmatplotlib\u001b[39;00m \u001b[38;5;28;01mimport\u001b[39;00m _api, cbook\n\u001b[1;32m---> 26\u001b[0m \u001b[38;5;28;01mfrom\u001b[39;00m \u001b[38;5;21;01mmatplotlib\u001b[39;00m\u001b[38;5;21;01m.\u001b[39;00m\u001b[38;5;21;01mbackends\u001b[39;00m \u001b[38;5;28;01mimport\u001b[39;00m BackendFilter, backend_registry\n\u001b[0;32m     27\u001b[0m \u001b[38;5;28;01mfrom\u001b[39;00m \u001b[38;5;21;01mmatplotlib\u001b[39;00m\u001b[38;5;21;01m.\u001b[39;00m\u001b[38;5;21;01mcbook\u001b[39;00m \u001b[38;5;28;01mimport\u001b[39;00m ls_mapper\n\u001b[0;32m     28\u001b[0m \u001b[38;5;28;01mfrom\u001b[39;00m \u001b[38;5;21;01mmatplotlib\u001b[39;00m\u001b[38;5;21;01m.\u001b[39;00m\u001b[38;5;21;01mcolors\u001b[39;00m \u001b[38;5;28;01mimport\u001b[39;00m Colormap, is_color_like\n",
      "File \u001b[1;32mc:\\Users\\aufaw_nq8olti\\AppData\\Local\\Programs\\Python\\Python312\\Lib\\site-packages\\matplotlib\\backends\\__init__.py:1\u001b[0m\n\u001b[1;32m----> 1\u001b[0m \u001b[38;5;28;01mfrom\u001b[39;00m \u001b[38;5;21;01m.\u001b[39;00m\u001b[38;5;21;01mregistry\u001b[39;00m \u001b[38;5;28;01mimport\u001b[39;00m BackendFilter, backend_registry  \u001b[38;5;66;03m# noqa: F401\u001b[39;00m\n\u001b[0;32m      3\u001b[0m \u001b[38;5;66;03m# NOTE: plt.switch_backend() (called at import time) will add a \"backend\"\u001b[39;00m\n\u001b[0;32m      4\u001b[0m \u001b[38;5;66;03m# attribute here for backcompat.\u001b[39;00m\n\u001b[0;32m      5\u001b[0m _QT_FORCE_QT5_BINDING \u001b[38;5;241m=\u001b[39m \u001b[38;5;28;01mFalse\u001b[39;00m\n",
      "\u001b[1;31mModuleNotFoundError\u001b[0m: No module named 'matplotlib.backends.registry'"
     ]
    }
   ],
   "source": [
    "import pandas as pd\n",
    "import numpy as np\n",
    "import matplotlib.pyplot as plt\n",
    "import warnings\n",
    "from pycaret.time_series import *\n",
    "from sklearn.metrics import (\n",
    "    mean_absolute_error,\n",
    "    mean_absolute_percentage_error,\n",
    "    r2_score,\n",
    ")\n",
    "\n",
    "# ปิดการแจ้งเตือน\n",
    "warnings.filterwarnings(\"ignore\")"
   ]
  },
  {
   "cell_type": "code",
   "execution_count": null,
   "metadata": {},
   "outputs": [],
   "source": [
    "data = pd.read_csv(\"cleaned_data.csv\")"
   ]
  },
  {
   "cell_type": "code",
   "execution_count": null,
   "metadata": {},
   "outputs": [],
   "source": []
  },
  {
   "cell_type": "code",
   "execution_count": null,
   "metadata": {},
   "outputs": [],
   "source": [
    "import pandas as pd\n",
    "\n",
    "\n",
    "# ✅ แปลงคอลัมน์ timestamp เป็น datetime\n",
    "data[\"timestamp\"] = pd.to_datetime(data[\"timestamp\"], format=\"mixed\")\n",
    "\n",
    "# ✅ ตั้งค่า index เป็น timestamp\n",
    "data = data.set_index(\"timestamp\")\n",
    "\n",
    "# ✅ สร้างช่วงเวลาที่สมบูรณ์ (รายชั่วโมง)\n",
    "start_time = data.index.min()  # เวลาเริ่มต้น\n",
    "end_time = data.index.max()  # เวลาสิ้นสุด\n",
    "complete_range = pd.date_range(\n",
    "    start=start_time, end=end_time, freq=\"H\"\n",
    ")  # สร้างช่วงเวลาที่สมบูรณ์\n",
    "\n",
    "# ✅ ตรวจสอบเวลาที่หายไป\n",
    "missing_times = complete_range.difference(data.index)  # หาช่วงเวลาที่หายไป\n",
    "\n",
    "# ✅ แสดงผลลัพธ์\n",
    "if len(missing_times) > 0:\n",
    "    print(\"เวลาที่หายไป:\")\n",
    "    print(missing_times)\n",
    "else:\n",
    "    print(\"ไม่มีเวลาที่หายไป\")"
   ]
  },
  {
   "cell_type": "code",
   "execution_count": null,
   "metadata": {},
   "outputs": [],
   "source": [
    "# ✅ ลบคอลัมน์ที่ไม่จำเป็น\n",
    "data.drop(\n",
    "    columns=[\n",
    "        \"Unnamed: 0\",\n",
    "        \"timezone\",\n",
    "        \"location\",\n",
    "        \"index\",\n",
    "        \"temperature\",\n",
    "        \"pm_10\",\n",
    "        \"humidity\",\n",
    "    ],\n",
    "    inplace=True,\n",
    "    errors=\"ignore\",\n",
    ")\n",
    "\n",
    "# ✅ แปลง timestamp และตั้งค่า index\n",
    "# data[\"timestamp\"] = pd.to_datetime(data[\"timestamp\"], format=\"mixed\")\n",
    "# data = data.set_index(\"timestamp\")\n",
    "\n",
    "print(data)"
   ]
  },
  {
   "cell_type": "code",
   "execution_count": null,
   "metadata": {},
   "outputs": [],
   "source": [
    "plt.plot(data.index, data[\"pm_2_5\"], label=\"Actual Test Data\", color=\"green\")"
   ]
  },
  {
   "cell_type": "code",
   "execution_count": null,
   "metadata": {},
   "outputs": [],
   "source": [
    "plt.plot(data.index[:450], data[\"pm_2_5\"][:450], label=\"Actual Test Data\", color=\"green\")"
   ]
  },
  {
   "cell_type": "code",
   "execution_count": null,
   "metadata": {},
   "outputs": [],
   "source": [
    "data = data[450:]"
   ]
  },
  {
   "cell_type": "code",
   "execution_count": null,
   "metadata": {},
   "outputs": [],
   "source": [
    "plt.plot(data.index, data[\"pm_2_5\"], label=\"Actual Test Data\", color=\"green\")"
   ]
  },
  {
   "cell_type": "code",
   "execution_count": null,
   "metadata": {},
   "outputs": [],
   "source": [
    "# ✅ สร้างช่วงเวลาที่สมบูรณ์ (รายชั่วโมง)\n",
    "start_time = data.index.min()  # เวลาเริ่มต้น\n",
    "end_time = data.index.max()  # เวลาสิ้นสุด\n",
    "complete_range = pd.date_range(\n",
    "    start=start_time, end=end_time, freq=\"H\"\n",
    ")  # สร้างช่วงเวลาที่สมบูรณ์\n",
    "# ✅ ตรวจสอบเวลาที่หายไป\n",
    "missing_times = complete_range.difference(data.index)  # หาช่วงเวลาที่หายไป\n",
    "\n",
    "# ✅ แสดงผลลัพธ์\n",
    "if len(missing_times) > 0:\n",
    "    print(\"เวลาที่หายไป:\")\n",
    "    print(missing_times)\n",
    "else:\n",
    "    print(\"ไม่มีเวลาที่หายไป\")"
   ]
  },
  {
   "cell_type": "code",
   "execution_count": null,
   "metadata": {},
   "outputs": [],
   "source": [
    "for col in data.select_dtypes(include=\"integer\").columns:\n",
    "    data[col] = data[col].astype(float)  # แปลงเป็น float ก่อน\n",
    "data = data.interpolate()"
   ]
  },
  {
   "cell_type": "code",
   "execution_count": null,
   "metadata": {},
   "outputs": [],
   "source": [
    "data"
   ]
  },
  {
   "cell_type": "code",
   "execution_count": null,
   "metadata": {},
   "outputs": [],
   "source": [
    "# ✅ ตรวจสอบเวลาที่หายไป\n",
    "missing_times = complete_range.difference(data.index)  # หาช่วงเวลาที่หายไป\n",
    "\n",
    "# ✅ แสดงผลลัพธ์\n",
    "if len(missing_times) > 0:\n",
    "    print(\"เวลาที่หายไป:\")\n",
    "    print(missing_times)\n",
    "else:\n",
    "    print(\"ไม่มีเวลาที่หายไป\")"
   ]
  },
  {
   "cell_type": "code",
   "execution_count": null,
   "metadata": {},
   "outputs": [],
   "source": [
    "# บันทึกชื่อ index เดิม\n",
    "index_name = data.index.name\n",
    "\n",
    "# เติมวันที่ขาดหายไป\n",
    "data = data.reindex(complete_range)\n",
    "\n",
    "# เติมค่าที่หายไปด้วย interpolation\n",
    "data = data.astype(float).interpolate()\n",
    "\n",
    "# ถ้ามี NaN ใช้ fillna()\n",
    "data = data.fillna(method=\"bfill\").fillna(method=\"ffill\")\n",
    "\n",
    "# ตั้งค่าชื่อ index กลับ\n",
    "data.index.name = index_name"
   ]
  },
  {
   "cell_type": "code",
   "execution_count": null,
   "metadata": {},
   "outputs": [],
   "source": [
    "# ✅ ตรวจสอบเวลาที่หายไป\n",
    "missing_times = complete_range.difference(data.index)  # หาช่วงเวลาที่หายไป\n",
    "\n",
    "# ✅ แสดงผลลัพธ์\n",
    "if len(missing_times) > 0:\n",
    "    print(\"เวลาที่หายไป:\")\n",
    "    print(missing_times)\n",
    "else:\n",
    "    print(\"ไม่มีเวลาที่หายไป\")"
   ]
  },
  {
   "cell_type": "code",
   "execution_count": null,
   "metadata": {},
   "outputs": [],
   "source": [
    "print(data)"
   ]
  },
  {
   "cell_type": "code",
   "execution_count": null,
   "metadata": {},
   "outputs": [],
   "source": [
    "plt.plot(data.index, data[\"pm_2_5\"], label=\"Actual Test Data\", color=\"green\")"
   ]
  },
  {
   "cell_type": "code",
   "execution_count": null,
   "metadata": {},
   "outputs": [],
   "source": [
    "# ✅ สร้างฟีเจอร์เชิงเวลา\n",
    "data[\"day_of_week\"] = data.index.dayofweek\n",
    "data[\"month\"] = data.index.month\n",
    "data[\"day_of_year\"] = data.index.dayofyear\n",
    "data[\"week_of_year\"] = data.index.isocalendar().week\n",
    "data[\"quarter\"] = data.index.quarter\n",
    "print(data)"
   ]
  },
  {
   "cell_type": "code",
   "execution_count": null,
   "metadata": {},
   "outputs": [],
   "source": [
    "# ✅ แบ่งข้อมูล Train/Test\n",
    "train = data.iloc[:-168]  # ใช้ข้อมูลทั้งหมด ยกเว้น 15 วันสุดท้าย\n",
    "test = data.iloc[-168:]  # 15 วันสุดท้ายสำหรับทดสอบ"
   ]
  },
  {
   "cell_type": "code",
   "execution_count": null,
   "metadata": {},
   "outputs": [],
   "source": [
    "data[\"week_of_year\"] = data[\"week_of_year\"].astype(\"int32\")"
   ]
  },
  {
   "cell_type": "code",
   "execution_count": null,
   "metadata": {},
   "outputs": [],
   "source": [
    "print(data.info())"
   ]
  },
  {
   "cell_type": "code",
   "execution_count": null,
   "metadata": {},
   "outputs": [],
   "source": [
    "exp = setup(\n",
    "    data=train,  # ข้อมูลที่ใช้\n",
    "    target=\"pm_2_5\",  # คอลัมน์เป้าหมาย (PM2.5)\n",
    "    ignore_features=[\n",
    "        # \"day_of_week\",\n",
    "        # \"month\",\n",
    "        # \"day_of_year\",\n",
    "        \"week_of_year\",\n",
    "        # \"quarter\",\n",
    "    ],  # ละเว้นฟีเจอร์ที่ไม่ต้องการ\n",
    "    fold_strategy=\"expanding\",  # กลยุทธ์การแบ่งข้อมูล\n",
    "    fold=2,  # จำนวน fold\n",
    "    fh=168,  # ทำนาย 7 วันข้างหน้า\n",
    "    seasonal_period=\"H\",  # ระบุ seasonal_period เป็นรายวัน\n",
    "    enforce_exogenous=True,  # ใช้ exogenous features\n",
    "    n_jobs=-1,  # ใช้ CPU ทั้งหมด\n",
    "    session_id=42,  # ตั้งค่า seed เพื่อให้ผลลัพธ์ reproducible\n",
    "    verbose=True,  # แสดงผลลัพธ์การตั้งค่า\n",
    "    use_gpu=True,\n",
    ")"
   ]
  },
  {
   "cell_type": "code",
   "execution_count": null,
   "metadata": {},
   "outputs": [],
   "source": [
    "print(data.dtypes)  # ต้องเป็น float หรือ int เท่านั้น\n",
    "print(data.isnull().sum())  # เช็กว่าไม่มี NaN"
   ]
  },
  {
   "cell_type": "code",
   "execution_count": null,
   "metadata": {},
   "outputs": [],
   "source": [
    "print(data)"
   ]
  },
  {
   "cell_type": "code",
   "execution_count": null,
   "metadata": {},
   "outputs": [],
   "source": [
    "if not isinstance(data.index, pd.DatetimeIndex):\n",
    "    data.index = pd.to_datetime(data.index)  # แปลง index เป็น datetime"
   ]
  },
  {
   "cell_type": "code",
   "execution_count": null,
   "metadata": {},
   "outputs": [],
   "source": [
    "# สร้างโมเดล ARIMA ด้วย Hyperparameters ที่ปรับแล้ว\n",
    "model = exp.create_model(\"arima\", order=(1, 1, 1), seasonal_order=(1, 1, 1, 12))  # ,\n",
    "model = exp.tune_model(model)\n",
    "model = exp.finalize_model(model)"
   ]
  },
  {
   "cell_type": "code",
   "execution_count": null,
   "metadata": {},
   "outputs": [],
   "source": [
    "print(test)\n",
    "test=test.drop(columns=\"week_of_year\")\n"
   ]
  },
  {
   "cell_type": "code",
   "execution_count": null,
   "metadata": {},
   "outputs": [],
   "source": [
    "test.index = test.index.to_period(\"H\")  # แปลงเป็นช่วงวัน (Daily Period)"
   ]
  },
  {
   "cell_type": "code",
   "execution_count": null,
   "metadata": {},
   "outputs": [],
   "source": [
    "predictions = predict_model(model, X=test.drop(columns=\"pm_2_5\"))  # ทำนาย 7 วันข้างหน้า\n",
    "print(predictions)"
   ]
  },
  {
   "cell_type": "code",
   "execution_count": null,
   "metadata": {},
   "outputs": [],
   "source": [
    "print(test.index)\n",
    "print(test.index.freq)"
   ]
  },
  {
   "cell_type": "code",
   "execution_count": null,
   "metadata": {},
   "outputs": [],
   "source": [
    "if len(test) > 0:\n",
    "    # ทำนายค่า test set\n",
    "    test_predictions = predict_model(model, X=test.drop(columns=[\"pm_2_5\"]))\n",
    "\n",
    "    # คำนวณค่าความผิดพลาด\n",
    "    mae = mean_absolute_error(test[\"pm_2_5\"], test_predictions[\"y_pred\"])\n",
    "    mape = (\n",
    "        mean_absolute_percentage_error(test[\"pm_2_5\"], test_predictions[\"y_pred\"]) * 100\n",
    "    )\n",
    "    r2 = r2_score(test[\"pm_2_5\"], test_predictions[\"y_pred\"])\n",
    "    # คำนวณความแม่นยำ (Acc uracy)\n",
    "    mean_actual = np.mean(test[\"pm_2_5\"])\n",
    "    accuracy = (1 - (mae / mean_actual)) * 100\n",
    "    print(\"\\nModel Performance on Test Set:\")\n",
    "    print(f\"MAE: {mae:.2f}\")\n",
    "    print(f\"MAPE: {mape:.2f}%\")\n",
    "    print(f\"R²: {r2:.4f}\")\n",
    "    print(accuracy)"
   ]
  },
  {
   "cell_type": "code",
   "execution_count": null,
   "metadata": {},
   "outputs": [],
   "source": [
    "test.index = test.index.to_timestamp()\n",
    "# ✅ แสดงกราฟผลการพยากรณ์\n",
    "plt.figure(figsize=(12, 6))\n",
    "# แสดงข้อมูล 30 วันล่าสุดจาก historical data\n",
    "# plt.plot(data.index[-30:], data[\"pm_2_5\"][-30:], label=\"Historical Data\", color=\"blue\")\n",
    "# แสดงข้อมูลจริงของ test set (ถ้ามี)\n",
    "plt.plot(test.index, test[\"pm_2_5\"], label=\"Actual Test Data\", color=\"green\")\n",
    "# แสดงค่าที่ทำนาย\n",
    "plt.plot(\n",
    "    test.index,\n",
    "    predictions[\"y_pred\"],\n",
    "    label=\"7-Day Forecast\",\n",
    "    color=\"red\",\n",
    "    linestyle=\"dashed\",\n",
    ")\n",
    "\n",
    "plt.legend()\n",
    "plt.title(\"PM2.5 Forecast for Next 7 Days\")\n",
    "plt.xlabel(\"Date\")\n",
    "plt.ylabel(\"PM2.5\")\n",
    "plt.grid(True, linestyle=\"--\", alpha=0.7)\n",
    "plt.tight_layout()\n",
    "plt.show()"
   ]
  }
 ],
 "metadata": {
  "kernelspec": {
   "display_name": "Python 3",
   "language": "python",
   "name": "python3"
  },
  "language_info": {
   "codemirror_mode": {
    "name": "ipython",
    "version": 3
   },
   "file_extension": ".py",
   "mimetype": "text/x-python",
   "name": "python",
   "nbconvert_exporter": "python",
   "pygments_lexer": "ipython3",
   "version": "3.12.4"
  }
 },
 "nbformat": 4,
 "nbformat_minor": 2
}
